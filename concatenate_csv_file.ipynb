{
 "cells": [
  {
   "cell_type": "code",
   "execution_count": 1,
   "metadata": {},
   "outputs": [],
   "source": [
    "import pandas as pd\n",
    "import numpy as np\n"
   ]
  },
  {
   "cell_type": "code",
   "execution_count": 2,
   "metadata": {},
   "outputs": [],
   "source": [
    "data1 = pd.read_csv(\"24092023_3horas.csv\")\n",
    "data2 = pd.read_csv(\"25092023_3horas.csv\")\n",
    "data3 = pd.read_csv(\"26092023_3horas.csv\")\n",
    "data4 = pd.read_csv(\"27092023_3horas.csv\")"
   ]
  },
  {
   "cell_type": "code",
   "execution_count": 3,
   "metadata": {},
   "outputs": [
    {
     "name": "stdout",
     "output_type": "stream",
     "text": [
      "Index(['time', 'M01.VELOC', 'M02.VELOC', 'M03.VELOC', 'M04.VELOC', 'M05.VELOC',\n",
      "       'M06.VELOC', 'M07.VELOC', 'M08.VELOC', 'M11.VELOC', 'M12.VELOC',\n",
      "       'PIC_6101.PV(Bar)', 'PIC_6101.SP(Bar)', 'PIC_6101.MV(%)',\n",
      "       'LIC_3101.PV(%)', 'LIC_3101.SP(%)', 'LIC_3101.MV(%)',\n",
      "       'PIC_3101.PV(Bar)', 'PIC_3101.SP(Bar)', 'PIC_3101.MV(%)',\n",
      "       'FIT_5101.PV(Ton/h)', 'LIT_3101.PV(%)', 'PIT_2101.PV(Bar)',\n",
      "       'PIT_6101.PV(mm2H2O)', 'TT_2101.PV(ºC)', 'TT_5101.PV(ºC)',\n",
      "       'TT_6101.PV(ºC)', 'TT_6102.PV(ºC)', 'TT_6103.PV(ºC)',\n",
      "       'FIC_2101.PV(m3/h)', 'FIC_2101.SP(m3/h)', 'FIC_2101.MV(%)',\n",
      "       'AUXILIAR_VAZAO_COMPENSADA', 'FIT_5101.PV(kg/s)', 'PIT_6101.PV(Pa)',\n",
      "       'FIC_2101.PV(kg/s)', 'FIC_2101.SP(kg/s)'],\n",
      "      dtype='object')\n",
      "Index(['time', 'M01.VELOC', 'M02.VELOC', 'M03.VELOC', 'M04.VELOC', 'M05.VELOC',\n",
      "       'M06.VELOC', 'M07.VELOC', 'M08.VELOC', 'M11.VELOC', 'M12.VELOC',\n",
      "       'PIC_6101.PV(Bar)', 'PIC_6101.SP(Bar)', 'PIC_6101.MV(%)',\n",
      "       'LIC_3101.PV(%)', 'LIC_3101.SP(%)', 'LIC_3101.MV(%)',\n",
      "       'PIC_3101.PV(Bar)', 'PIC_3101.SP(Bar)', 'PIC_3101.MV(%)',\n",
      "       'FIT_5101.PV(Ton/h)', 'LIT_3101.PV(%)', 'PIT_2101.PV(Bar)',\n",
      "       'PIT_6101.PV(mm2H2O)', 'TT_2101.PV(ºC)', 'TT_5101.PV(ºC)',\n",
      "       'TT_6101.PV(ºC)', 'TT_6102.PV(ºC)', 'TT_6103.PV(ºC)',\n",
      "       'FIC_2101.PV(m3/h)', 'FIC_2101.SP(m3/h)', 'FIC_2101.MV(%)',\n",
      "       'AUXILIAR_VAZAO_COMPENSADA', 'FIT_5101.PV(kg/s)', 'PIT_6101.PV(Pa)',\n",
      "       'FIC_2101.PV(kg/s)', 'FIC_2101.SP(kg/s)'],\n",
      "      dtype='object')\n",
      "Index(['time', 'M01.VELOC', 'M02.VELOC', 'M03.VELOC', 'M04.VELOC', 'M05.VELOC',\n",
      "       'M06.VELOC', 'M07.VELOC', 'M08.VELOC', 'M11.VELOC', 'M12.VELOC',\n",
      "       'PIC_6101.PV(Bar)', 'PIC_6101.SP(Bar)', 'PIC_6101.MV(%)',\n",
      "       'LIC_3101.PV(%)', 'LIC_3101.SP(%)', 'LIC_3101.MV(%)',\n",
      "       'PIC_3101.PV(Bar)', 'PIC_3101.SP(Bar)', 'PIC_3101.MV(%)',\n",
      "       'FIT_5101.PV(Ton/h)', 'LIT_3101.PV(%)', 'PIT_2101.PV(Bar)',\n",
      "       'PIT_6101.PV(mm2H2O)', 'TT_2101.PV(ºC)', 'TT_5101.PV(ºC)',\n",
      "       'TT_6101.PV(ºC)', 'TT_6102.PV(ºC)', 'TT_6103.PV(ºC)',\n",
      "       'FIC_2101.PV(m3/h)', 'FIC_2101.SP(m3/h)', 'FIC_2101.MV(%)',\n",
      "       'AUXILIAR_VAZAO_COMPENSADA', 'FIT_5101.PV(kg/s)', 'PIT_6101.PV(Pa)',\n",
      "       'FIC_2101.PV(kg/s)', 'FIC_2101.SP(kg/s)'],\n",
      "      dtype='object')\n",
      "Index(['time', 'M01.VELOC', 'M02.VELOC', 'M03.VELOC', 'M04.VELOC', 'M05.VELOC',\n",
      "       'M06.VELOC', 'M07.VELOC', 'M08.VELOC', 'M11.VELOC', 'M12.VELOC',\n",
      "       'PIC_6101.PV(Bar)', 'PIC_6101.SP(Bar)', 'PIC_6101.MV(%)',\n",
      "       'LIC_3101.PV(%)', 'LIC_3101.SP(%)', 'LIC_3101.MV(%)',\n",
      "       'PIC_3101.PV(Bar)', 'PIC_3101.SP(Bar)', 'PIC_3101.MV(%)',\n",
      "       'FIT_5101.PV(Ton/h)', 'LIT_3101.PV(%)', 'PIT_2101.PV(Bar)',\n",
      "       'PIT_6101.PV(mm2H2O)', 'TT_2101.PV(ºC)', 'TT_5101.PV(ºC)',\n",
      "       'TT_6101.PV(ºC)', 'TT_6102.PV(ºC)', 'TT_6103.PV(ºC)',\n",
      "       'FIC_2101.PV(m3/h)', 'FIC_2101.SP(m3/h)', 'FIC_2101.MV(%)',\n",
      "       'AUXILIAR_VAZAO_COMPENSADA', 'FIT_5101.PV(kg/s)', 'PIT_6101.PV(Pa)',\n",
      "       'FIC_2101.PV(kg/s)', 'FIC_2101.SP(kg/s)'],\n",
      "      dtype='object')\n"
     ]
    }
   ],
   "source": [
    "#check if all data files have the same columns\n",
    "list_data = [data1, data2, data3, data4,]\n",
    "for d in list_data:\n",
    "    print(d.columns)\n"
   ]
  },
  {
   "cell_type": "code",
   "execution_count": 4,
   "metadata": {},
   "outputs": [
    {
     "name": "stdout",
     "output_type": "stream",
     "text": [
      "(7647, 37)\n",
      "(10726, 37)\n",
      "(10801, 37)\n",
      "(10801, 37)\n",
      "(39975, 37)\n"
     ]
    }
   ],
   "source": [
    "# concatenate all tables in one\n",
    "list_of_column =['time', 'M01.VELOC', 'M02.VELOC', 'M03.VELOC', 'M04.VELOC', 'M05.VELOC',\n",
    "       'M06.VELOC', 'M07.VELOC', 'M08.VELOC', 'M11.VELOC', 'M12.VELOC',\n",
    "       'PIC_6101.PV(Bar)', 'PIC_6101.SP(Bar)', 'PIC_6101.MV(%)',\n",
    "       'LIC_3101.PV(%)', 'LIC_3101.SP(%)', 'LIC_3101.MV(%)',\n",
    "       'PIC_3101.PV(Bar)', 'PIC_3101.SP(Bar)', 'PIC_3101.MV(%)',\n",
    "       'FIT_5101.PV(Ton/h)', 'LIT_3101.PV(%)', 'PIT_2101.PV(Bar)',\n",
    "       'PIT_6101.PV(mm2H2O)', 'TT_2101.PV(ºC)', 'TT_5101.PV(ºC)',\n",
    "       'TT_6101.PV(ºC)', 'TT_6102.PV(ºC)', 'TT_6103.PV(ºC)',\n",
    "       'FIC_2101.PV(m3/h)', 'FIC_2101.SP(m3/h)', 'FIC_2101.MV(%)',\n",
    "       'AUXILIAR_VAZAO_COMPENSADA', 'FIT_5101.PV(kg/s)', 'PIT_6101.PV(Pa)',\n",
    "       'FIC_2101.PV(kg/s)', 'FIC_2101.SP(kg/s)']\n",
    "data1 = data1[list_of_column]\n",
    "data2 = data2[list_of_column]\n",
    "data3 = data3[list_of_column]\n",
    "data4 = data4[list_of_column]\n",
    "\n",
    "all_data = pd.concat([data1, data2, data3, data4], axis=0)\n",
    "\n",
    "list_of_data = [data1, data2, data3, data4, all_data]\n",
    "for d in list_of_data:\n",
    "    print(d.shape)"
   ]
  },
  {
   "cell_type": "code",
   "execution_count": 8,
   "metadata": {},
   "outputs": [],
   "source": [
    "all_data.to_csv(\"all_data.csv\", index=False)"
   ]
  }
 ],
 "metadata": {
  "kernelspec": {
   "display_name": ".venv_data_clear_boil",
   "language": "python",
   "name": "python3"
  },
  "language_info": {
   "codemirror_mode": {
    "name": "ipython",
    "version": 3
   },
   "file_extension": ".py",
   "mimetype": "text/x-python",
   "name": "python",
   "nbconvert_exporter": "python",
   "pygments_lexer": "ipython3",
   "version": "3.12.4"
  }
 },
 "nbformat": 4,
 "nbformat_minor": 2
}
